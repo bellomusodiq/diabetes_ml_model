{
 "cells": [
  {
   "cell_type": "markdown",
   "metadata": {},
   "source": [
    "## Packages"
   ]
  },
  {
   "cell_type": "code",
   "execution_count": null,
   "metadata": {},
   "outputs": [],
   "source": [
    "import pandas as pd\n",
    "import joblib\n",
    "import matplotlib.pyplot as plt\n",
    "from xgboost import XGBClassifier\n",
    "from sklearn.preprocessing import StandardScaler\n",
    "from imblearn.over_sampling import SMOTE\n",
    "from ucimlrepo import fetch_ucirepo \n",
    "from sklearn.model_selection import train_test_split\n",
    "\n"
   ]
  },
  {
   "cell_type": "markdown",
   "metadata": {},
   "source": [
    "## Data Import"
   ]
  },
  {
   "cell_type": "code",
   "execution_count": null,
   "metadata": {},
   "outputs": [],
   "source": [
    "# fetch dataset \n",
    "cdc_diabetes_health_indicators = fetch_ucirepo(id=891) \n"
   ]
  },
  {
   "cell_type": "code",
   "execution_count": null,
   "metadata": {},
   "outputs": [],
   "source": [
    "# data (as pandas dataframes) \n",
    "X = cdc_diabetes_health_indicators.data.features #Features\n",
    "Y = cdc_diabetes_health_indicators.data.targets #Target Variable\n",
    "\n",
    "diabetes_data = pd.concat([X, Y], axis=1)"
   ]
  },
  {
   "cell_type": "markdown",
   "metadata": {},
   "source": [
    "## Data Preprocessing"
   ]
  },
  {
   "cell_type": "code",
   "execution_count": null,
   "metadata": {},
   "outputs": [],
   "source": [
    "# Split dataset into training and test sets.\n",
    "X_train, X_test, Y_train, Y_test = train_test_split(X, Y, test_size= 0.3, random_state= 14)"
   ]
  },
  {
   "cell_type": "code",
   "execution_count": null,
   "metadata": {},
   "outputs": [],
   "source": [
    "sc = StandardScaler()\n",
    "X_train_sc = sc.fit_transform(X_train)\n",
    "X_test_sc = sc.transform(X_test)"
   ]
  },
  {
   "cell_type": "code",
   "execution_count": null,
   "metadata": {},
   "outputs": [],
   "source": [
    "# Address class imbalance with smote over sampling.\n",
    "resampler = SMOTE(random_state = 45)\n",
    "X_train_sm, Y_train_sm = resampler.fit_resample(X_train_sc, Y_train)"
   ]
  },
  {
   "cell_type": "markdown",
   "metadata": {},
   "source": [
    "## Training"
   ]
  },
  {
   "cell_type": "code",
   "execution_count": null,
   "metadata": {},
   "outputs": [],
   "source": [
    "xg_model = XGBClassifier(\n",
    "    n_estimators=100,       \n",
    "    max_depth=10,     \n",
    "    learning_rate=0.1,    \n",
    "    objective='binary:logistic', \n",
    "    eval_metric='logloss', \n",
    ")\n",
    "\n",
    "xg_model.fit(X_train_sm, Y_train_sm)"
   ]
  },
  {
   "cell_type": "markdown",
   "metadata": {},
   "source": [
    "# Model Preparation"
   ]
  },
  {
   "cell_type": "code",
   "execution_count": null,
   "metadata": {},
   "outputs": [],
   "source": [
    "# Example for a scikit-learn model\n",
    "joblib.dump(xg_model, 'diabetes_model.pkl')"
   ]
  },
  {
   "cell_type": "code",
   "execution_count": null,
   "metadata": {},
   "outputs": [],
   "source": [
    "# Packages\n",
    "import pandas as pd\n",
    "import joblib\n",
    "import matplotlib.pyplot as plt\n",
    "from xgboost import XGBClassifier\n",
    "from sklearn.preprocessing import StandardScaler\n",
    "from imblearn.over_sampling import SMOTE\n",
    "from ucimlrepo import fetch_ucirepo \n",
    "from sklearn.model_selection import train_test_split\n",
    "\n",
    "# Data Import\n",
    "# Fetch dataset \n",
    "cdc_diabetes_health_indicators = fetch_ucirepo(id=891) \n",
    "\n",
    "# Data (as pandas dataframes) \n",
    "X = cdc_diabetes_health_indicators.data.features # Features\n",
    "Y = cdc_diabetes_health_indicators.data.targets   # Target Variable\n",
    "\n",
    "# Combine data into one dataframe if needed\n",
    "diabetes_data = pd.concat([X, Y], axis=1)\n",
    "\n",
    "# Data Preprocessing\n",
    "# Split dataset into training and test sets.\n",
    "X_train, X_test, Y_train, Y_test = train_test_split(X, Y, test_size=0.3, random_state=14)\n",
    "\n",
    "# Scale the data\n",
    "scaler = StandardScaler()\n",
    "X_train_scaled = scaler.fit_transform(X_train)\n",
    "X_test_scaled = scaler.transform(X_test)\n",
    "\n",
    "# Address class imbalance with SMOTE over-sampling.\n",
    "smote_resampler = SMOTE(random_state=45)\n",
    "X_train_resampled, Y_train_resampled = smote_resampler.fit_resample(X_train_scaled, Y_train)\n",
    "\n",
    "# Training\n",
    "xg_model = XGBClassifier(\n",
    "    n_estimators=100,       \n",
    "    max_depth=10,     \n",
    "    learning_rate=0.1,    \n",
    "    objective='binary:logistic', \n",
    "    eval_metric='logloss', \n",
    ")\n",
    "\n",
    "xg_model.fit(X_train_resampled, Y_train_resampled)\n",
    "\n",
    "# Save the trained model using joblib\n",
    "model_filename = 'diabetes_model_v0.1.pkl'\n",
    "joblib.dump(xg_model, model_filename)\n",
    "\n",
    "print(f\"Model saved as {model_filename}\")\n"
   ]
  },
  {
   "cell_type": "code",
   "execution_count": null,
   "metadata": {},
   "outputs": [],
   "source": [
    "\n",
    "\n",
    "# Assuming X_train is still available\n",
    "scaler = StandardScaler()\n",
    "\n",
    "# Fit the scaler on the original training data\n",
    "scaler.fit(X_train)\n",
    "\n",
    "# Save the scaler for future use\n",
    "joblib.dump(scaler, 'scaler.pkl')\n"
   ]
  },
  {
   "cell_type": "code",
   "execution_count": 12,
   "metadata": {},
   "outputs": [
    {
     "name": "stdout",
     "output_type": "stream",
     "text": [
      "Predicted outcome: 1\n"
     ]
    }
   ],
   "source": [
    "import joblib\n",
    "import numpy as np\n",
    "\n",
    "# Load the trained model\n",
    "model_filename = 'diabetes_model_v0.1.pkl'\n",
    "xg_model = joblib.load(model_filename)\n",
    "\n",
    "# Load the scaler\n",
    "scaler_filename = 'scaler.pkl'  # Ensure you saved the scaler during training\n",
    "scaler = joblib.load(scaler_filename)\n",
    "\n",
    "# valuesList = [\n",
    "#     0,  # HighBP\n",
    "#     0,  # HighChol\n",
    "#     1,  # CholCheck\n",
    "#     31.94, # BMI\n",
    "#     1,  # Smoker\n",
    "#     0,  # Stroke\n",
    "#     0,  # HeartDiseaseorAttack\n",
    "#     0,  # PhysActivity\n",
    "#     0,  # Fruits\n",
    "#     0,  # Veggies\n",
    "#     0,  # HvyAlcoholConsump\n",
    "#     1,  # AnyHealthcare\n",
    "#     0,  # NoDocbcCost\n",
    "#     5,  # GenHlth\n",
    "#     15, # MentHlth\n",
    "#     30, # PhysHlth\n",
    "#     1,  # DiffWalk\n",
    "#     1,  # Sex\n",
    "#     10,  # Age\n",
    "#     5,  # Education\n",
    "#     1   # Income\n",
    "# ]\n",
    "\n",
    "valuesList = [\n",
    "    0,  # HighBP\n",
    "    0,  # HighChol\n",
    "    1,  # CholCheck\n",
    "    35, # BMI\n",
    "    1,  # Smoker\n",
    "    0,  # Stroke\n",
    "    0,  # HeartDiseaseorAttack\n",
    "    0,  # PhysActivity\n",
    "    0,  # Fruits\n",
    "    0,  # Veggies\n",
    "    0,  # HvyAlcoholConsump\n",
    "    1,  # AnyHealthcare\n",
    "    0,  # NoDocbcCost\n",
    "    5,  # GenHlth\n",
    "    15, # MentHlth\n",
    "    30, # PhysHlth\n",
    "    1,  # DiffWalk\n",
    "    1,  # Sex\n",
    "    10,  # Age\n",
    "    5,  # Education\n",
    "    0   # Income\n",
    "]\n",
    "\n",
    "\n",
    "\n",
    "# Input data as a list\n",
    "# valuesList = [\n",
    "#     1,  # HighBP\n",
    "#     1,  # HighChol\n",
    "#     1,  # CholCheck\n",
    "#     18, # BMI\n",
    "#     0,  # Smoker\n",
    "#     0,  # Stroke\n",
    "#     0,  # HeartDiseaseorAttack\n",
    "#     0,  # PhysActivity\n",
    "#     0,  # Fruits\n",
    "#     0,  # Veggies\n",
    "#     0,  # HvyAlcoholConsump\n",
    "#     1,  # AnyHealthcare\n",
    "#     0,  # NoDocbcCost\n",
    "#     4,  # GenHlth\n",
    "#     0,  # MentHlth\n",
    "#     0,  # PhysHlth\n",
    "#     1,  # DiffWalk\n",
    "#     0,  # Sex\n",
    "#     11, # Age\n",
    "#     2,  # Education\n",
    "#     4   # Income\n",
    "# ]\n",
    "\n",
    "# Convert to 2D array\n",
    "input_data = np.array(valuesList).reshape(1, -1)\n",
    "\n",
    "# # Scale the input data\n",
    "# input_data_scaled = scaler.transform(input_data)\n",
    "\n",
    "# Make a prediction\n",
    "prediction = xg_model.predict(input_data)\n",
    "\n",
    "# Output the result\n",
    "print(f\"Predicted outcome: {prediction[0]}\")\n"
   ]
  }
 ],
 "metadata": {
  "kernelspec": {
   "display_name": "base",
   "language": "python",
   "name": "python3"
  },
  "language_info": {
   "codemirror_mode": {
    "name": "ipython",
    "version": 3
   },
   "file_extension": ".py",
   "mimetype": "text/x-python",
   "name": "python",
   "nbconvert_exporter": "python",
   "pygments_lexer": "ipython3",
   "version": "3.11.7"
  }
 },
 "nbformat": 4,
 "nbformat_minor": 2
}
